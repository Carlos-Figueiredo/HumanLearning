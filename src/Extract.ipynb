{
 "cells": [
  {
   "cell_type": "code",
   "execution_count": 2,
   "metadata": {},
   "outputs": [],
   "source": [
    "import csv\n",
    "import numpy as np"
   ]
  },
  {
   "cell_type": "code",
   "execution_count": 3,
   "metadata": {},
   "outputs": [],
   "source": [
    "with open('../DADOS/MICRODADOS_ENEM_2018.csv', errors='ignore') as dataCSV:\n",
    "    data_csv = csv.reader(dataCSV, delimiter=',')\n",
    "    data_list_csv = list(data_csv)\n"
   ]
  },
  {
   "cell_type": "code",
   "execution_count": 3,
   "metadata": {},
   "outputs": [
    {
     "name": "stdout",
     "output_type": "stream",
     "text": [
      "5513748\n"
     ]
    }
   ],
   "source": [
    "print(len(data_list_csv))"
   ]
  },
  {
   "cell_type": "code",
   "execution_count": 4,
   "metadata": {},
   "outputs": [
    {
     "name": "stdout",
     "output_type": "stream",
     "text": [
      "oi\n",
      "TP_PRESENCA_MT\n",
      "['NU_INSCRICAO', 'NU_ANO', 'CO_MUNICIPIO_RESIDENCIA', 'NO_MUNICIPIO_RESIDENCIA', 'CO_UF_RESIDENCIA', 'SG_UF_RESIDENCIA', 'NU_IDADE', 'TP_SEXO', 'TP_ESTADO_CIVIL', 'TP_COR_RACA', 'TP_NACIONALIDADE', 'CO_MUNICIPIO_NASCIMENTO', 'NO_MUNICIPIO_NASCIMENTO', 'CO_UF_NASCIMENTO', 'SG_UF_NASCIMENTO', 'TP_ST_CONCLUSAO', 'TP_ANO_CONCLUIU', 'TP_ESCOLA', 'TP_ENSINO', 'IN_TREINEIRO', 'CO_ESCOLA', 'CO_MUNICIPIO_ESC', 'NO_MUNICIPIO_ESC', 'CO_UF_ESC', 'SG_UF_ESC', 'TP_DEPENDENCIA_ADM_ESC', 'TP_LOCALIZACAO_ESC', 'TP_SIT_FUNC_ESC', 'IN_BAIXA_VISAO', 'IN_CEGUEIRA', 'IN_SURDEZ', 'IN_DEFICIENCIA_AUDITIVA', 'IN_SURDO_CEGUEIRA', 'IN_DEFICIENCIA_FISICA', 'IN_DEFICIENCIA_MENTAL', 'IN_DEFICIT_ATENCAO', 'IN_DISLEXIA', 'IN_DISCALCULIA', 'IN_AUTISMO', 'IN_VISAO_MONOCULAR', 'IN_OUTRA_DEF', 'IN_GESTANTE', 'IN_LACTANTE', 'IN_IDOSO', 'IN_ESTUDA_CLASSE_HOSPITALAR', 'IN_SEM_RECURSO', 'IN_BRAILLE', 'IN_AMPLIADA_24', 'IN_AMPLIADA_18', 'IN_LEDOR', 'IN_ACESSO', 'IN_TRANSCRICAO', 'IN_LIBRAS', 'IN_LEITURA_LABIAL', 'IN_MESA_CADEIRA_RODAS', 'IN_MESA_CADEIRA_SEPARADA', 'IN_APOIO_PERNA', 'IN_GUIA_INTERPRETE', 'IN_COMPUTADOR', 'IN_CADEIRA_ESPECIAL', 'IN_CADEIRA_CANHOTO', 'IN_CADEIRA_ACOLCHOADA', 'IN_PROVA_DEITADO', 'IN_MOBILIARIO_OBESO', 'IN_LAMINA_OVERLAY', 'IN_PROTETOR_AURICULAR', 'IN_MEDIDOR_GLICOSE', 'IN_MAQUINA_BRAILE', 'IN_SOROBAN', 'IN_MARCA_PASSO', 'IN_SONDA', 'IN_MEDICAMENTOS', 'IN_SALA_INDIVIDUAL', 'IN_SALA_ESPECIAL', 'IN_SALA_ACOMPANHANTE', 'IN_MOBILIARIO_ESPECIFICO', 'IN_MATERIAL_ESPECIFICO', 'IN_NOME_SOCIAL', 'CO_MUNICIPIO_PROVA', 'NO_MUNICIPIO_PROVA', 'CO_UF_PROVA', 'SG_UF_PROVA', 'TP_PRESENCA_CN', 'TP_PRESENCA_CH', 'TP_PRESENCA_LC', 'TP_PRESENCA_MT', 'CO_PROVA_CN', 'CO_PROVA_CH', 'CO_PROVA_LC', 'CO_PROVA_MT', 'NU_NOTA_CN', 'NU_NOTA_CH', 'NU_NOTA_LC', 'NU_NOTA_MT', 'TX_RESPOSTAS_CN', 'TX_RESPOSTAS_CH', 'TX_RESPOSTAS_LC', 'TX_RESPOSTAS_MT', 'TP_LINGUA', 'TX_GABARITO_CN', 'TX_GABARITO_CH', 'TX_GABARITO_LC', 'TX_GABARITO_MT', 'TP_STATUS_REDACAO', 'NU_NOTA_COMP1', 'NU_NOTA_COMP2', 'NU_NOTA_COMP3', 'NU_NOTA_COMP4', 'NU_NOTA_COMP5', 'NU_NOTA_REDACAO', 'Q001', 'Q002', 'Q003', 'Q004', 'Q005', 'Q006', 'Q007', 'Q008', 'Q009', 'Q010', 'Q011', 'Q012', 'Q013', 'Q014', 'Q015', 'Q016', 'Q017', 'Q018', 'Q019', 'Q020', 'Q021', 'Q022', 'Q023', 'Q024', 'Q025', 'Q026', 'Q027']\n",
      "0\n"
     ]
    }
   ],
   "source": [
    "# Get the answers vector and the math grades \n",
    "print(\"oi\")\n",
    "y = []\n",
    "x = []\n",
    "i = 0\n",
    "\n",
    "#Age field - used as reference for location of different fields (the next is ref_field + 1 and so on...)\n",
    "ref_field = 59                          \n",
    "x_social =  []\n",
    "\n",
    "for row in data_list_csv:\n",
    "    parameters = row[0].split(';')\n",
    "    print(parameters[85])\n",
    "    print(parameters)\n",
    "    if(parameters[85] == '1'):\n",
    "        #print(\"oi\")\n",
    "        if(parameters[102][0] == 'E'):        \n",
    "            nota_mt = float(parameters[93])\n",
    "            y.append(nota_mt)\n",
    "            answers = [int(ans == gab) for (ans, gab) in zip(parameters[97], parameters[102])]\n",
    "            x.append(answers)\n",
    "            #x_social.append([parameters[2],  parameters[13], parameters[15], parameters[18], parameters[27]])\n",
    "    break\n",
    "    \n",
    "    \n",
    "\n",
    "np.save(\"socialData.npy\", x_social)\n",
    "np.save(\"answers.npy\", x)\n",
    "np.save(\"grades.npy\", y)\n",
    "\n",
    "print(len(y))"
   ]
  },
  {
   "cell_type": "code",
   "execution_count": null,
   "metadata": {},
   "outputs": [],
   "source": [
    "# Faster load\n",
    "\n",
    "y = np.load(\"grades.npy\")\n",
    "x = np.load(\"answers.npy\")\n",
    "x_social = np.load(\"socialData.npy\")\n"
   ]
  },
  {
   "cell_type": "code",
   "execution_count": 5,
   "metadata": {},
   "outputs": [],
   "source": [
    "# Divide in train and test\n",
    "\n",
    "x_train = x[:(int) (0.8 * len(x))]\n",
    "x_test = x[(int) (0.8*len(x)):]\n",
    "y_train = y[:(int) (0.8 * len(y))]\n",
    "y_test = y[(int) (0.8*len(y)):]"
   ]
  },
  {
   "cell_type": "code",
   "execution_count": 6,
   "metadata": {
    "scrolled": true
   },
   "outputs": [
    {
     "name": "stdout",
     "output_type": "stream",
     "text": [
      "536.0135401876072\n"
     ]
    },
    {
     "data": {
      "text/plain": [
       "<Figure size 640x480 with 1 Axes>"
      ]
     },
     "metadata": {},
     "output_type": "display_data"
    }
   ],
   "source": [
    "# Distribuicao de todas as notas\n",
    "\n",
    "import matplotlib.pyplot as plt\n",
    "\n",
    "print(np.mean(y))\n",
    "plt.hist(y, rwidth=0.9)\n",
    "plt.show()"
   ]
  },
  {
   "cell_type": "code",
   "execution_count": 8,
   "metadata": {},
   "outputs": [
    {
     "name": "stderr",
     "output_type": "stream",
     "text": [
      "/usr/lib/python3/dist-packages/ipykernel_launcher.py:11: UserWarning: With alpha=0, this algorithm does not converge well. You are advised to use the LinearRegression estimator\n",
      "  # This is added back by InteractiveShellApp.init_path()\n",
      "/home/carlosf/.local/lib/python3.6/site-packages/sklearn/linear_model/_coordinate_descent.py:476: UserWarning: Coordinate descent with no regularization may lead to unexpected results and is discouraged.\n",
      "  positive)\n",
      "/home/carlosf/.local/lib/python3.6/site-packages/sklearn/linear_model/_coordinate_descent.py:476: ConvergenceWarning: Objective did not converge. You might want to increase the number of iterations. Duality gap: 139401733.61583057, tolerance: 842610.0814850277\n",
      "  positive)\n"
     ]
    },
    {
     "name": "stdout",
     "output_type": "stream",
     "text": [
      "oi  18.89600356885822\n",
      "Score 0.964521 with 44 questions\n",
      "Best Score changed to 0.964521\n",
      "Best Score is to 0.964521 with alpha 0.000000\n",
      "[18.97019959  6.35954363 48.53396062 15.04744793 29.03509794 39.95425624\n",
      " 23.83866366  2.54553826  9.56779036  9.22518857  8.20740732  7.33013022\n",
      "  3.13717365  3.83870597 17.70083968  1.64800897 26.40648939  3.08434604\n",
      "  9.31777853  2.29153679 11.45883976  0.52257583 -0.0814632   5.9957213\n",
      "  1.1562043  15.68676076 23.90054966 31.83758865  8.85633977 22.68656424\n",
      "  0.79731712 14.28427113  5.74149844 61.19571243 10.52526991  6.04389548\n",
      " 10.38039397 18.3100156   2.81102608 15.84455394 13.45864103 12.79625535\n",
      "  4.30681002 19.55715197  0.        ]\n"
     ]
    }
   ],
   "source": [
    "#treinando regressao linear basica a partir das respostas\n",
    "\n",
    "import sklearn\n",
    "from sklearn.linear_model import Lasso\n",
    "import numpy as np\n",
    "\n",
    "alpha = 0\n",
    "\n",
    "max_score = False\n",
    "\n",
    "model = Lasso(alpha, warm_start=True, max_iter=1000).fit(x_train, y_train)\n",
    "model_score = model.score(x_test, y_test)\n",
    "print(\"oi \", np.linalg.norm(y_test - model.predict(x_test)) / len(y_test)**(1/2))\n",
    "num_questions = np.count_nonzero(model.coef_)\n",
    "print(\"Score %f with %d questions\" %(model_score, num_questions))\n",
    "if(model_score > max_score or (not max_score)):\n",
    "    max_score = model_score\n",
    "    model_min = model        \n",
    "    max_alpha = alpha\n",
    "    print(\"Best Score changed to %f\" %(max_score))\n",
    "    \n",
    "print(\"Best Score is to %f with alpha %f\" %(max_score, max_alpha))\n",
    "print(model_min.coef_)\n",
    "\n"
   ]
  },
  {
   "cell_type": "code",
   "execution_count": null,
   "metadata": {},
   "outputs": [],
   "source": [
    "import matplotlib.pyplot as plt\n",
    "\n",
    "historic_values = []\n",
    "\n",
    "K = 4 * 10e-4\n",
    "\n",
    "\n",
    "rating_questions = avg_grades * np.ones(45)\n",
    "for i in range(1, len(y_train)):\n",
    "    rating_questions = match(K, rating_questions, y_train[i], 1 - x_train[i])\n",
    "historic_values.append(rating_questions[0])\n",
    "    \n",
    "print(rating_questions)\n",
    "\n"
   ]
  },
  {
   "cell_type": "code",
   "execution_count": null,
   "metadata": {},
   "outputs": [],
   "source": [
    "plt.hist(rating_questions)\n",
    "plt.show()"
   ]
  },
  {
   "cell_type": "code",
   "execution_count": null,
   "metadata": {},
   "outputs": [],
   "source": []
  },
  {
   "cell_type": "code",
   "execution_count": null,
   "metadata": {},
   "outputs": [],
   "source": [
    "K_range = [30]\n",
    "\n",
    "\n",
    "\n",
    "for K in K_range:\n",
    "    print(K)\n",
    "    notes_test = avg_grades * np.ones(len(y_test))\n",
    "    for j in range(1, len(y_test)):\n",
    "        for i in range(1, 45):\n",
    "            notes_test[j] = match(K, notes_test[j], rating_questions[i], x_test[j][i])\n",
    "    print(np.linalg.norm(notes_test - y_test) / len(y_test) ** (1/2))\n",
    "    \n",
    "    "
   ]
  },
  {
   "cell_type": "code",
   "execution_count": null,
   "metadata": {},
   "outputs": [],
   "source": [
    "def match(K, ratingQuestion, ratingStudent, resultMatch):\n",
    "    return ratingQuestion + K * (resultMatch - 1 / (1 + 10**((ratingStudent - ratingQuestion)/400)) )"
   ]
  }
 ],
 "metadata": {
  "kernelspec": {
   "display_name": "Python 3",
   "language": "python",
   "name": "python3"
  },
  "language_info": {
   "codemirror_mode": {
    "name": "ipython",
    "version": 3
   },
   "file_extension": ".py",
   "mimetype": "text/x-python",
   "name": "python",
   "nbconvert_exporter": "python",
   "pygments_lexer": "ipython3",
   "version": "3.6.9"
  }
 },
 "nbformat": 4,
 "nbformat_minor": 2
}
