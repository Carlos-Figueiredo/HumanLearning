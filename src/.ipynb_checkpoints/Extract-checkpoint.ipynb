{
 "cells": [
  {
   "cell_type": "code",
   "execution_count": 1,
   "metadata": {},
   "outputs": [],
   "source": [
    "import csv\n",
    "import numpy as np\n",
    "\n",
    "with open('../DADOS/MICRODADOS_ENEM_2013.csv', errors='ignore') as dataCSV:\n",
    "    data_csv = csv.reader(dataCSV, delimiter=',')\n",
    "    data_list_csv = list(data_csv)   "
   ]
  },
  {
   "cell_type": "code",
   "execution_count": 19,
   "metadata": {},
   "outputs": [
    {
     "name": "stdout",
     "output_type": "stream",
     "text": [
      "oi\n",
      "TP_COR_RACA\n",
      "['NU_INSCRICAO', 'NU_ANO', 'COD_MUNICIPIO_RESIDENCIA', 'NO_MUNICIPIO_RESIDENCIA', 'COD_UF_RESIDENCIA', 'UF_RESIDENCIA', 'IN_ESTUDA_CLASSE_HOSPITALAR', 'COD_ESCOLA', 'COD_MUNICIPIO_ESC', 'NO_MUNICIPIO_ESC', 'COD_UF_ESC', 'UF_ESC', 'ID_DEPENDENCIA_ADM_ESC', 'ID_LOCALIZACAO_ESC', 'SIT_FUNC_ESC', 'IDADE', 'TP_SEXO', 'NACIONALIDADE', 'COD_MUNICIPIO_NASCIMENTO', 'NO_MUNICIPIO_NASCIMENTO', 'COD_UF_NASCIMENTO', 'UF_NASCIMENTO', 'ST_CONCLUSAO', 'ANO_CONCLUIU', 'TP_ESCOLA', 'IN_TP_ENSINO', 'TP_ESTADO_CIVIL', 'TP_COR_RACA', 'IN_BAIXA_VISAO', 'IN_CEGUEIRA', 'IN_SURDEZ', 'IN_DEFICIENCIA_AUDITIVA', 'IN_SURDO_CEGUEIRA', 'IN_DEFICIENCIA_FISICA', 'IN_DEFICIENCIA_MENTAL', 'IN_DEFICIT_ATENCAO', 'IN_DISLEXIA', 'IN_GESTANTE', 'IN_LACTANTE', 'IN_IDOSO', 'IN_AUTISMO', 'IN_SABATISTA', 'IN_BRAILLE', 'IN_AMPLIADA_24', 'IN_AMPLIADA_18', 'IN_LEDOR', 'IN_ACESSO', 'IN_TRANSCRICAO', 'IN_LIBRAS', 'IN_LEITURA_LABIAL', 'IN_MESA_CADEIRA_RODAS', 'IN_MESA_CADEIRA_SEPARADA', 'IN_APOIO_PERNA', 'IN_GUIA_INTERPRETE', 'IN_CERTIFICADO', 'NO_ENTIDADE_CERTIFICACAO', 'COD_UF_ENTIDADE_CERTIFICACAO', 'UF_ENTIDADE_CERTIFICACAO', 'COD_MUNICIPIO_PROVA', 'NO_MUNICIPIO_PROVA', 'COD_UF_PROVA', 'UF_PROVA', 'IN_PRESENCA_CN', 'IN_PRESENCA_CH', 'IN_PRESENCA_LC', 'IN_PRESENCA_MT', 'ID_PROVA_CN', 'ID_PROVA_CH', 'ID_PROVA_LC', 'ID_PROVA_MT', 'NOTA_CN', 'NOTA_CH', 'NOTA_LC', 'NOTA_MT', 'TX_RESPOSTAS_CN', 'TX_RESPOSTAS_CH', 'TX_RESPOSTAS_LC', 'TX_RESPOSTAS_MT', 'TP_LINGUA', 'GABARITO_CN', 'GABARITO_CH', 'GABARITO_LC', 'GABARITO_MT', 'IN_STATUS_REDACAO', 'NU_NOTA_COMP1', 'NU_NOTA_COMP2', 'NU_NOTA_COMP3', 'NU_NOTA_COMP4', 'NU_NOTA_COMP5', 'NU_NOTA_REDACAO', 'Q001', 'Q002', 'Q003', 'Q004', 'Q005', 'Q006', 'Q007', 'Q008', 'Q009', 'Q010', 'Q011', 'Q012', 'Q013', 'Q014', 'Q015', 'Q016', 'Q017', 'Q018', 'Q019', 'Q020', 'Q021', 'Q022', 'Q023', 'Q024', 'Q025', 'Q026', 'Q027', 'Q028', 'Q029', 'Q030', 'Q031', 'Q032', 'Q033', 'Q034', 'Q035', 'Q036', 'Q037', 'Q038', 'Q039', 'Q040', 'Q041', 'Q042', 'Q043', 'Q044', 'Q045', 'Q046', 'Q047', 'Q048', 'Q049', 'Q050', 'Q051', 'Q052', 'Q053', 'Q054', 'Q055', 'Q056', 'Q057', 'Q058', 'Q059', 'Q060', 'Q061', 'Q062', 'Q063', 'Q064', 'Q065', 'Q066', 'Q067', 'Q068', 'Q069', 'Q070', 'Q071', 'Q072', 'Q073', 'Q074', 'Q075', 'Q076']\n"
     ]
    }
   ],
   "source": [
    "# Get the answers vector and the math grades \n",
    "print(\"oi\")\n",
    "y = []\n",
    "x = []\n",
    "i = 0\n",
    "\n",
    "#Age field - used as reference for location of different fields (the next is ref_field + 1 and so on...)\n",
    "ref_field = 59                          \n",
    "x_social =  []\n",
    "\n",
    "for row in data_list_csv:\n",
    "    parameters = row[0].split(';')\n",
    "    print(parameters[27])\n",
    "    print(parameters)\n",
    "    if(parameters[73] and parameters[82][0] == 'C' and parameters[82][1] == 'A'):\n",
    "        nota_mt = float(parameters[73])\n",
    "        y.append(nota_mt)\n",
    "        answers = [int(ans == gab) for (ans, gab) in zip(parameters[77], parameters[82])]\n",
    "        x.append(answers)\n",
    "        x_social.append([parameters[2],  parameters[13], parameters[15], parameters[18], parameters[27]])\n",
    "    break\n",
    "\n",
    "np.save(\"socialData.npy\", x_social)\n",
    "np.save(\"answers.npy\", x)\n",
    "np.save(\"grades.npy\", y)"
   ]
  },
  {
   "cell_type": "code",
   "execution_count": 2,
   "metadata": {},
   "outputs": [],
   "source": [
    "# Faster load\n",
    "\n",
    "y = np.load(\"grades.npy\")\n",
    "x = np.load(\"answers.npy\")\n"
   ]
  },
  {
   "cell_type": "code",
   "execution_count": 4,
   "metadata": {},
   "outputs": [],
   "source": [
    "# Divide in train and test\n",
    "\n",
    "x_train = x[:(int) (0.8 * len(x))]\n",
    "x_test = x[(int) (0.8*len(x)):]\n",
    "y_train = y[:(int) (0.8 * len(y))]\n",
    "y_test = y[(int) (0.8*len(y)):]"
   ]
  },
  {
   "cell_type": "code",
   "execution_count": 4,
   "metadata": {},
   "outputs": [
    {
     "data": {
      "image/png": "[encoded data removed]",
      "text/plain": [
       "<Figure size 432x288 with 1 Axes>"
      ]
     },
     "metadata": {
      "needs_background": "light"
     },
     "output_type": "display_data"
    }
   ],
   "source": [
    "# Distribuicao de todas as notas\n",
    "\n",
    "import matplotlib.pyplot as plt\n",
    "\n",
    "plt.hist(y, rwidth=0.9)\n",
    "plt.show()\n",
    "avg_grades = np.mean(y)"
   ]
  },
  {
   "cell_type": "code",
   "execution_count": 6,
   "metadata": {},
   "outputs": [
    {
     "name": "stdout",
     "output_type": "stream",
     "text": [
      "oi  50.00995689969269\n",
      "Score 0.762578 with 12 questions\n",
      "Best Score changed to 0.762578\n",
      "Best Score is to 0.762578 with alpha 10.000000\n",
      "[41.3968842  29.49380002  0.          4.98802374  4.74207437 11.15822828\n",
      " -0.          0.          0.          0.          0.         20.06766633\n",
      "  0.          0.          0.          0.          0.          0.\n",
      " 10.88172051  3.37509364  0.          0.          0.          0.\n",
      "  0.         -0.         28.75453596 24.08116349  0.          0.\n",
      "  0.          0.          0.          0.         -0.          0.\n",
      "  0.         -0.          0.          0.          0.          0.\n",
      "  0.         16.27716296 31.67385645]\n"
     ]
    }
   ],
   "source": [
    "#treinando regressao linear basica a partir das respostas\n",
    "\n",
    "import sklearn\n",
    "from sklearn.linear_model import Lasso\n",
    "import numpy as np\n",
    "\n",
    "alpha = 10\n",
    "\n",
    "max_score = False\n",
    "\n",
    "model = Lasso(alpha, warm_start=True, max_iter=1000).fit(x_train, y_train)\n",
    "model_score = model.score(x_test, y_test)\n",
    "print(\"oi \", np.linalg.norm(y_test - model.predict(x_test)) / len(y_test)**(1/2))\n",
    "num_questions = np.count_nonzero(model.coef_)\n",
    "print(\"Score %f with %d questions\" %(model_score, num_questions))\n",
    "if(model_score > max_score or (not max_score)):\n",
    "    max_score = model_score\n",
    "    model_min = model        \n",
    "    max_alpha = alpha\n",
    "    print(\"Best Score changed to %f\" %(max_score))\n",
    "    \n",
    "print(\"Best Score is to %f with alpha %f\" %(max_score, max_alpha))\n",
    "print(model_min.coef_)\n",
    "\n"
   ]
  },
  {
   "cell_type": "code",
   "execution_count": 11,
   "metadata": {},
   "outputs": [
    {
     "name": "stdout",
     "output_type": "stream",
     "text": [
      "[367.53135516 414.45348139 680.76925289 539.04519303 779.13524709\n",
      " 551.61908111 683.52349294 816.16314364 868.17055395 723.40909528\n",
      " 715.44158309 630.02809983 817.64225644 778.81910536 736.78182536\n",
      " 748.63896189 794.42513209 776.05011545 582.47814036 644.66133077\n",
      " 769.67977297 621.74948956 846.5048184  803.0521825  686.28654149\n",
      " 791.84142464 589.76846188 547.01867462 744.08213013 819.92087255\n",
      " 682.55786173 725.08510146 774.5204826  809.47669925 841.49147303\n",
      " 721.76242112 674.57612459 857.41419485 789.07750346 682.21809528\n",
      " 776.33493819 844.34300522 654.64359219 655.31241119 487.20921125]\n"
     ]
    }
   ],
   "source": [
    "import matplotlib.pyplot as plt\n",
    "\n",
    "historic_values = []\n",
    "\n",
    "K = 4 * 10e-4\n",
    "\n",
    "\n",
    "rating_questions = avg_grades * np.ones(45)\n",
    "for i in range(1, len(y_train)):\n",
    "    rating_questions = match(K, rating_questions, y_train[i], 1 - x_train[i])\n",
    "historic_values.append(rating_questions[0])\n",
    "    \n",
    "print(rating_questions)\n",
    "\n"
   ]
  },
  {
   "cell_type": "code",
   "execution_count": 12,
   "metadata": {},
   "outputs": [
    {
     "data": {
      "image/png": "[encoded data removed]",
      "text/plain": [
       "<Figure size 432x288 with 1 Axes>"
      ]
     },
     "metadata": {
      "needs_background": "light"
     },
     "output_type": "display_data"
    }
   ],
   "source": [
    "plt.hist(rating_questions)\n",
    "plt.show()"
   ]
  },
  {
   "cell_type": "code",
   "execution_count": null,
   "metadata": {},
   "outputs": [],
   "source": []
  },
  {
   "cell_type": "code",
   "execution_count": 72,
   "metadata": {},
   "outputs": [
    {
     "name": "stdout",
     "output_type": "stream",
     "text": [
      "25\n",
      "56.21354073604847\n",
      "27.5\n",
      "55.61886642828347\n",
      "30\n",
      "55.37227556618207\n",
      "32.5\n",
      "55.41170295911752\n",
      "35\n",
      "55.68500719902832\n"
     ]
    }
   ],
   "source": [
    "K_range = [30]\n",
    "\n",
    "\n",
    "\n",
    "for K in K_range:\n",
    "    print(K)\n",
    "    notes_test = avg_grades * np.ones(len(y_test))\n",
    "    for j in range(1, len(y_test)):\n",
    "        for i in range(1, 45):\n",
    "            notes_test[j] = match(K, notes_test[j], rating_questions[i], x_test[j][i])\n",
    "    print(np.linalg.norm(notes_test - y_test) / len(y_test) ** (1/2))\n",
    "    \n",
    "    "
   ]
  },
  {
   "cell_type": "code",
   "execution_count": 10,
   "metadata": {},
   "outputs": [],
   "source": [
    "def match(K, ratingQuestion, ratingStudent, resultMatch):\n",
    "    return ratingQuestion + K * (resultMatch - 1 / (1 + 10**((ratingStudent - ratingQuestion)/400)) )"
   ]
  }
 ],
 "metadata": {
  "kernelspec": {
   "display_name": "Python 3",
   "language": "python",
   "name": "python3"
  },
  "language_info": {
   "codemirror_mode": {
    "name": "ipython",
    "version": 3
   },
   "file_extension": ".py",
   "mimetype": "text/x-python",
   "name": "python",
   "nbconvert_exporter": "python",
   "pygments_lexer": "ipython3",
   "version": "3.6.9"
  }
 },
 "nbformat": 4,
 "nbformat_minor": 2
}
