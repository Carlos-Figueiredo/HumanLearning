{
 "cells": [
  {
   "cell_type": "code",
   "execution_count": 3,
   "metadata": {},
   "outputs": [],
   "source": [
    "import csv\n",
    "import numpy as np"
   ]
  },
  {
   "cell_type": "code",
   "execution_count": 4,
   "metadata": {},
   "outputs": [],
   "source": [
    "# Get the answers vector and the math grades\n",
    "\n",
    "with open('../DADOS/MICRODADOS_ENEM_2013.csv', errors='ignore') as dataCSV:\n",
    "    data_csv = csv.reader(dataCSV, delimiter=',')\n",
    "    data_list_csv = list(data_csv)   \n",
    "\n",
    "y = []\n",
    "x = []\n",
    "i = 0\n",
    "for row in data_list_csv:\n",
    "    parameters = row[0].split(';')\n",
    "    if(parameters[73] and parameters[82][0] == 'C' and parameters[82][1] == 'A'):\n",
    "        nota_mt = float(parameters[73])\n",
    "        y.append(nota_mt)\n",
    "        answers = [int(ans == gab) for (ans, gab) in zip(parameters[77], parameters[82])]\n",
    "        x.append(answers)\n",
    "np.save(\"answers.npy\", x)\n",
    "np.save(\"grades.npy\", y)"
   ]
  },
  {
   "cell_type": "code",
   "execution_count": 4,
   "metadata": {},
   "outputs": [],
   "source": [
    "# Faster load\n",
    "\n",
    "y = np.load(\"grades.npy\")\n",
    "x = np.load(\"answers.npy\")\n"
   ]
  },
  {
   "cell_type": "code",
   "execution_count": 5,
   "metadata": {},
   "outputs": [],
   "source": [
    "# Divide in train and test\n",
    "\n",
    "x_train = x[:(int) (0.8 * len(x))]\n",
    "x_test = x[(int) (0.8*len(x)):]\n",
    "y_train = y[:(int) (0.8 * len(y))]\n",
    "y_test = y[(int) (0.8*len(y)):]"
   ]
  },
  {
   "cell_type": "code",
   "execution_count": 6,
   "metadata": {},
   "outputs": [
    {
     "data": {
      "image/png": "[encoded data removed]",
      "text/plain": [
       "<Figure size 432x288 with 1 Axes>"
      ]
     },
     "metadata": {
      "needs_background": "light"
     },
     "output_type": "display_data"
    }
   ],
   "source": [
    "# Distribuicao de todas as notas\n",
    "\n",
    "import matplotlib.pyplot as plt\n",
    "\n",
    "plt.hist(y, rwidth=0.9)\n",
    "plt.show()\n",
    "avg_grades = np.mean(y)"
   ]
  },
  {
   "cell_type": "code",
   "execution_count": 7,
   "metadata": {},
   "outputs": [
    {
     "name": "stdout",
     "output_type": "stream",
     "text": [
      "oi  15.756107145830606\n",
      "Score 0.976433 with 43 questions\n",
      "Best Score changed to 0.976433\n",
      "Best Score is to 0.976433 with alpha 0.100000\n",
      "[57.08682763 38.51320415  2.25497613 17.46923181 24.02416073 24.91840212\n",
      "  0.52953211  9.9268409   5.23155573  6.86403676  4.06493603 27.17186861\n",
      "  3.15433584 10.98240883 12.04713271  7.07953225  5.79735937  5.05031028\n",
      " 16.61973251 13.62721361  9.91712555  1.01223767  3.69351936  0.28964024\n",
      "  5.54973484  0.41271111 27.72713645 32.18399956  5.64651854 13.5145316\n",
      "  6.21844983  1.39348224  7.0421776   2.96291113  0.          7.12291555\n",
      "  5.903035   -0.          7.36392605 14.48327476 13.5753617  10.95112599\n",
      " 16.50026486 23.01809404 40.37505125]\n"
     ]
    }
   ],
   "source": [
    "#treinando regressao linear basica a partir das respostas\n",
    "\n",
    "import sklearn\n",
    "from sklearn.linear_model import Lasso\n",
    "import numpy as np\n",
    "\n",
    "alpha = 0.01\n",
    "\n",
    "max_score = False\n",
    "\n",
    "model = Lasso(alpha, warm_start=True, max_iter=1000).fit(x_train, y_train)\n",
    "model_score = model.score(x_test, y_test)\n",
    "print(\"oi \", np.linalg.norm(y_test - model.predict(x_test)) / len(y_test)**(1/2))\n",
    "num_questions = np.count_nonzero(model.coef_)\n",
    "print(\"Score %f with %d questions\" %(model_score, num_questions))\n",
    "if(model_score > max_score or (not max_score)):\n",
    "    max_score = model_score\n",
    "    model_min = model        \n",
    "    max_alpha = alpha\n",
    "    print(\"Best Score changed to %f\" %(max_score))\n",
    "    \n",
    "print(\"Best Score is to %f with alpha %f\" %(max_score, max_alpha))\n",
    "print(model_min.coef_)\n",
    "\n"
   ]
  },
  {
   "cell_type": "code",
   "execution_count": 53,
   "metadata": {},
   "outputs": [
    {
     "name": "stdout",
     "output_type": "stream",
     "text": [
      "[367.53135516 414.45348139 680.76925289 539.04519303 779.13524709\n",
      " 551.61908111 683.52349294 816.16314364 868.17055395 723.40909528\n",
      " 715.44158309 630.02809983 817.64225644 778.81910536 736.78182536\n",
      " 748.63896189 794.42513209 776.05011545 582.47814036 644.66133077\n",
      " 769.67977297 621.74948956 846.5048184  803.0521825  686.28654149\n",
      " 791.84142464 589.76846188 547.01867462 744.08213013 819.92087255\n",
      " 682.55786173 725.08510146 774.5204826  809.47669925 841.49147303\n",
      " 721.76242112 674.57612459 857.41419485 789.07750346 682.21809528\n",
      " 776.33493819 844.34300522 654.64359219 655.31241119 487.20921125]\n"
     ]
    }
   ],
   "source": [
    "import matplotlib.pyplot as plt\n",
    "\n",
    "historic_values = []\n",
    "\n",
    "K = 4 * 10e-4\n",
    "\n",
    "\n",
    "rating_questions = avg_grades * np.ones(45)\n",
    "for i in range(1, len(y_train)):\n",
    "    rating_questions = match(K, rating_questions, y_train[i], 1 - x_train[i])\n",
    "historic_values.append(rating_questions[0])\n",
    "    \n",
    "print(rating_questions)\n",
    "\n"
   ]
  },
  {
   "cell_type": "code",
   "execution_count": null,
   "metadata": {},
   "outputs": [],
   "source": [
    "plt.hist(rating_questions)\n",
    "plt.show()"
   ]
  },
  {
   "cell_type": "code",
   "execution_count": 72,
   "metadata": {},
   "outputs": [
    {
     "name": "stdout",
     "output_type": "stream",
     "text": [
      "25\n",
      "56.21354073604847\n",
      "27.5\n",
      "55.61886642828347\n",
      "30\n",
      "55.37227556618207\n",
      "32.5\n",
      "55.41170295911752\n",
      "35\n",
      "55.68500719902832\n"
     ]
    }
   ],
   "source": [
    "K_range = [30]\n",
    "\n",
    "\n",
    "\n",
    "for K in K_range:\n",
    "    print(K)\n",
    "    notes_test = avg_grades * np.ones(len(y_test))\n",
    "    for j in range(1, len(y_test)):\n",
    "        for i in range(1, 45):\n",
    "            notes_test[j] = match(K, notes_test[j], rating_questions[i], x_test[j][i])\n",
    "    print(np.linalg.norm(notes_test - y_test) / len(y_test) ** (1/2))\n",
    "    \n",
    "    "
   ]
  },
  {
   "cell_type": "code",
   "execution_count": 23,
   "metadata": {},
   "outputs": [],
   "source": [
    "def match(K, ratingQuestion, ratingStudent, resultMatch):\n",
    "    return ratingQuestion + K * (resultMatch - 1 / (1 + 10**((ratingStudent - ratingQuestion)/400)) )"
   ]
  }
 ],
 "metadata": {
  "kernelspec": {
   "display_name": "Python 3",
   "language": "python",
   "name": "python3"
  }
 },
 "nbformat": 4,
 "nbformat_minor": 2
}
